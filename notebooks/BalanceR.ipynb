{
 "cells": [
  {
   "cell_type": "code",
   "execution_count": 93,
   "metadata": {},
   "outputs": [],
   "source": [
    "import numpy as np\n",
    "import matplotlib.pyplot as plt\n",
    "import pandas as pd"
   ]
  },
  {
   "cell_type": "code",
   "execution_count": 94,
   "metadata": {},
   "outputs": [],
   "source": [
    "def pi_montecarlo(n, n_exp,R,WinRate,Riesgo):\n",
    "    balance_avg = 0\n",
    "    balanceMin = 9999999999999\n",
    "    balanceMax = 0\n",
    "    pi_value_list = []\n",
    "    \n",
    "    for i in range(n_exp):\n",
    "        balance = 1000\n",
    "        value = 0\n",
    "        x = np.random.uniform(0,1,n).tolist()\n",
    "        for j in range(n):\n",
    "            if x[j]<=WinRate:\n",
    "                balance += R * Riesgo * balance/100\n",
    "            else:\n",
    "                balance -= Riesgo * balance/100\n",
    "        float_value = float(balance)\n",
    "        if(float_value>balanceMax):\n",
    "            balanceMax = float_value\n",
    "        if(float_value<balanceMin):\n",
    "            balanceMin = float_value\n",
    "        pi_value_list.append(float_value)\n",
    "        balance_avg += float_value\n",
    "\n",
    "    balanceFinal = balance_avg/n_exp\n",
    "\n",
    "    print(\"Balance: \", balanceFinal)\n",
    "    print(\"Balance Max: \", balanceMax)\n",
    "    print(\"Balance Min: \", balanceMin)\n",
    "    fig = plt.plot(pi_value_list)\n",
    "    return (balanceFinal, fig)"
   ]
  },
  {
   "cell_type": "code",
   "execution_count": 173,
   "metadata": {},
   "outputs": [
    {
     "name": "stdout",
     "output_type": "stream",
     "text": [
      "Balance:  70717.32021408813\n",
      "Balance Max:  4078518.4714107616\n",
      "Balance Min:  548.7984708545428\n"
     ]
    },
    {
     "data": {
      "text/plain": [
       "(70717.32021408813, [<matplotlib.lines.Line2D at 0x18393e125b0>])"
      ]
     },
     "execution_count": 173,
     "metadata": {},
     "output_type": "execute_result"
    },
    {
     "data": {
      "image/png": "[encoded data removed]",
      "text/plain": [
       "<Figure size 432x288 with 1 Axes>"
      ]
     },
     "metadata": {
      "needs_background": "light"
     },
     "output_type": "display_data"
    }
   ],
   "source": [
    "pi_montecarlo(1068,100000,2,0.4,2)"
   ]
  }
 ],
 "metadata": {
  "interpreter": {
   "hash": "d7eb2b55cb58016e05ddc73d4b03599b2c96e47bc6e4bbd5e5deb95093ad640e"
  },
  "kernelspec": {
   "display_name": "Python 3.9.7 ('base')",
   "language": "python",
   "name": "python3"
  },
  "language_info": {
   "codemirror_mode": {
    "name": "ipython",
    "version": 3
   },
   "file_extension": ".py",
   "mimetype": "text/x-python",
   "name": "python",
   "nbconvert_exporter": "python",
   "pygments_lexer": "ipython3",
   "version": "3.9.7"
  },
  "orig_nbformat": 4
 },
 "nbformat": 4,
 "nbformat_minor": 2
}
